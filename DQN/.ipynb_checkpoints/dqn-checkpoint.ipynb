{
 "cells": [
  {
   "cell_type": "code",
   "execution_count": null,
   "metadata": {},
   "outputs": [],
   "source": [
    "import torch\n",
    "import torch.nn as nn\n",
    "import gym\n",
    "import numpy as np\n",
    "import torch.optim as optim\n",
    "import random\n",
    "import time\n"
   ]
  },
  {
   "cell_type": "code",
   "execution_count": null,
   "metadata": {},
   "outputs": [],
   "source": [
    "class Model(nn.Module):\n",
    "    def __init__(self, observation, action):\n",
    "        super(Model, self).__init__()\n",
    "        self.network = nn.Sequential(\n",
    "            nn.Linear(observation, 32, bias=False),\n",
    "            nn.Linear(32, 100, bias=False),\n",
    "            nn.Linear(100,32, bias =False),\n",
    "            nn.Linear(32, action, bias = False),\n",
    "        )\n",
    "        \n",
    "    def forward(self, input):\n",
    "        return self.network(input)"
   ]
  },
  {
   "cell_type": "code",
   "execution_count": null,
   "metadata": {},
   "outputs": [],
   "source": [
    "done = False\n",
    "learning_rate = 0.00001\n",
    "discount = 1\n",
    "n_episodes = 25000\n",
    "epsilon = 0.9\n",
    "# memory_d = 0\n",
    "# final_d = 8\n",
    "episode_rewards = np.array([])\n",
    "avg_loss = 0\n",
    "rewards_path = 'rewards.npy'\n",
    "\n",
    "env = gym.make(\"CartPole-v1\")\n",
    "env.reset()\n",
    "device = torch.device(\"cuda\") \n",
    "# Make 2 models\n",
    "q_hat = Model(env.observation_space.shape[0], env.action_space.n).to(device)\n",
    "# q_hat_target = Model(env.observation_space.shape[0], env.action_space.n).to(device)"
   ]
  },
  {
   "cell_type": "code",
   "execution_count": null,
   "metadata": {},
   "outputs": [],
   "source": [
    "#Optimizer\n",
    "\n",
    "criterion = nn.MSELoss().to(device)\n",
    "optimizer = optim.SGD(q_hat.parameters(), lr = learning_rate)\n",
    "        "
   ]
  },
  {
   "cell_type": "code",
   "execution_count": null,
   "metadata": {},
   "outputs": [],
   "source": [
    "# env.close()\n",
    "print(env.reset()) #[cart_position, cart_velocity, angle, angular velocity]"
   ]
  },
  {
   "cell_type": "code",
   "execution_count": null,
   "metadata": {},
   "outputs": [],
   "source": [
    "for episode in range(n_episodes):\n",
    "    \n",
    "    state = torch.from_numpy(env.reset()).float().to(device)\n",
    "    done = False\n",
    "    episode_reward = 0\n",
    "    total_loss = 0\n",
    "    \n",
    "    if episode%300 == 0:\n",
    "\n",
    "        RENDER = True\n",
    "    else:\n",
    "        RENDER = False\n",
    "        \n",
    "    while not done:\n",
    "        \n",
    "        if RENDER:\n",
    "            time.sleep(0.05)\n",
    "            env.render()\n",
    "            \n",
    "#         memory_d += 1\n",
    "#         if memory_d%final_d == 0:\n",
    "#             q_hat_target.load_state_dict(q_hat.state_dict()) # storing q_hat into q_hat_target for memory\n",
    "#             memory_d = 0\n",
    "        \n",
    "        q = q_hat(state)\n",
    "        if random.random() < epsilon:\n",
    "            action = env.action_space.sample()\n",
    "        else:\n",
    "            action = torch.argmax(q).item()\n",
    "            \n",
    "        next_state, reward, done, _ = env.step(action)\n",
    "        next_state = torch.from_numpy(next_state).float().to(device)\n",
    "        \n",
    "        q_target = q.clone()\n",
    "        q_target[action] = q[action] + learning_rate*(torch.tensor(reward) + discount*torch.max(q_hat(next_state))-q[action])\n",
    "        \n",
    "        if done:\n",
    "            q_target[action]=torch.tensor(reward)\n",
    "            \n",
    "            \n",
    "        #calculate loss\n",
    "        loss = criterion(q,q_target.detach())\n",
    "        optimizer.zero_grad()\n",
    "        loss.backward()\n",
    "        optimizer.step()\n",
    "        \n",
    "        state = next_state\n",
    "        \n",
    "        episode_reward += reward\n",
    "        total_loss += loss.item()\n",
    "        \n",
    "    epsilon *= 0.9999\n",
    "    episode_rewards = np.append(episode_rewards, episode_reward)\n",
    "    avg_loss += total_loss\n",
    "    \n",
    "    env.close()\n",
    "    if episode%100 == 0:\n",
    "        print('Episode: %5d | Average Loss: %5.2f | Epsilon: %2.4f | Avg. Reward: %5.4f'%(episode, avg_loss/100, epsilon, np.mean(episode_rewards[-100:])))\n",
    "        avg_loss = 0\n",
    "        ep_reward = 0\n",
    "        np.save(rewards_path, episode_rewards)"
   ]
  },
  {
   "cell_type": "code",
   "execution_count": null,
   "metadata": {},
   "outputs": [],
   "source": []
  }
 ],
 "metadata": {
  "kernelspec": {
   "display_name": "Python 3",
   "language": "python",
   "name": "python3"
  },
  "language_info": {
   "codemirror_mode": {
    "name": "ipython",
    "version": 3
   },
   "file_extension": ".py",
   "mimetype": "text/x-python",
   "name": "python",
   "nbconvert_exporter": "python",
   "pygments_lexer": "ipython3",
   "version": "3.6.9"
  }
 },
 "nbformat": 4,
 "nbformat_minor": 2
}
