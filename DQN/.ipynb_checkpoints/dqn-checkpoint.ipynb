{
 "cells": [
  {
   "cell_type": "code",
   "execution_count": 1,
   "metadata": {},
   "outputs": [],
   "source": [
    "import torch\n",
    "import torch.nn as nn\n",
    "import gym\n",
    "import numpy as np\n",
    "import torch.optim as optim\n",
    "import random\n",
    "import time\n"
   ]
  },
  {
   "cell_type": "code",
   "execution_count": 2,
   "metadata": {},
   "outputs": [],
   "source": [
    "class Model(nn.Module):\n",
    "    def __init__(self, observation, action):\n",
    "        super(Model, self).__init__()\n",
    "        self.network = nn.Sequential(\n",
    "            nn.Linear(observation, 32, bias=False),\n",
    "            nn.Linear(32, 100, bias=False),\n",
    "            nn.Linear(100,32, bias =False),\n",
    "            nn.Linear(32, action, bias = False),\n",
    "        )\n",
    "        \n",
    "    def forward(self, input):\n",
    "        return self.network(input)"
   ]
  },
  {
   "cell_type": "code",
   "execution_count": 3,
   "metadata": {},
   "outputs": [],
   "source": [
    "done = False\n",
    "learning_rate = 0.00001\n",
    "discount = 1\n",
    "n_episodes = 25000\n",
    "epsilon = 0.9\n",
    "# memory_d = 0\n",
    "# final_d = 8\n",
    "episode_rewards = np.array([])\n",
    "avg_loss = 0\n",
    "rewards_path = 'rewards.npy'\n",
    "\n",
    "env = gym.make(\"CartPole-v1\")\n",
    "env.reset()\n",
    "device = torch.device(\"cuda\") \n",
    "# Make 2 models\n",
    "q_hat = Model(env.observation_space.shape[0], env.action_space.n).to(device)\n",
    "# q_hat_target = Model(env.observation_space.shape[0], env.action_space.n).to(device)"
   ]
  },
  {
   "cell_type": "code",
   "execution_count": 4,
   "metadata": {},
   "outputs": [],
   "source": [
    "#Optimizer\n",
    "\n",
    "criterion = nn.MSELoss().to(device)\n",
    "optimizer = optim.SGD(q_hat.parameters(), lr = learning_rate)\n",
    "        "
   ]
  },
  {
   "cell_type": "code",
   "execution_count": 5,
   "metadata": {},
   "outputs": [
    {
     "name": "stdout",
     "output_type": "stream",
     "text": [
      "[ 0.02589959  0.01008653 -0.00160648 -0.03383726]\n"
     ]
    }
   ],
   "source": [
    "# env.close()\n",
    "print(env.reset()) #[cart_position, cart_velocity, angle, angular velocity]"
   ]
  },
  {
   "cell_type": "code",
   "execution_count": 6,
   "metadata": {},
   "outputs": [
    {
     "name": "stderr",
     "output_type": "stream",
     "text": [
      "/home/himanshu/anaconda3/envs/rl/lib/python3.6/site-packages/numpy/core/fromnumeric.py:3257: RuntimeWarning: Mean of empty slice.\n",
      "  out=out, **kwargs)\n",
      "/home/himanshu/anaconda3/envs/rl/lib/python3.6/site-packages/numpy/core/_methods.py:161: RuntimeWarning: invalid value encountered in double_scalars\n",
      "  ret = ret.dtype.type(ret / rcount)\n"
     ]
    },
    {
     "name": "stdout",
     "output_type": "stream",
     "text": [
      "Episode:     0 | Average Loss:  0.07 | Epsilon: 0.8999 | Avg. Reward:   nan\n",
      "Episode:   100 | Average Loss: 10.47 | Epsilon: 0.8910 | Avg. Reward: 18.8800\n",
      "Episode:   200 | Average Loss:  9.88 | Epsilon: 0.8821 | Avg. Reward: 17.7200\n",
      "Episode:   300 | Average Loss: 10.33 | Epsilon: 0.8733 | Avg. Reward: 18.7200\n",
      "Episode:   400 | Average Loss:  9.51 | Epsilon: 0.8646 | Avg. Reward: 17.0400\n",
      "Episode:   500 | Average Loss:  9.68 | Epsilon: 0.8560 | Avg. Reward: 17.2400\n",
      "Episode:   600 | Average Loss: 10.23 | Epsilon: 0.8475 | Avg. Reward: 18.4200\n",
      "Episode:   700 | Average Loss: 10.68 | Epsilon: 0.8391 | Avg. Reward: 18.9500\n",
      "Episode:   800 | Average Loss:  9.36 | Epsilon: 0.8307 | Avg. Reward: 16.5600\n",
      "Episode:   900 | Average Loss:  9.08 | Epsilon: 0.8225 | Avg. Reward: 16.2900\n",
      "Episode:  1000 | Average Loss:  9.59 | Epsilon: 0.8143 | Avg. Reward: 16.8300\n",
      "Episode:  1100 | Average Loss:  9.21 | Epsilon: 0.8062 | Avg. Reward: 16.5000\n",
      "Episode:  1200 | Average Loss:  8.81 | Epsilon: 0.7981 | Avg. Reward: 15.5500\n",
      "Episode:  1300 | Average Loss:  9.08 | Epsilon: 0.7902 | Avg. Reward: 16.0200\n",
      "Episode:  1400 | Average Loss:  9.47 | Epsilon: 0.7823 | Avg. Reward: 16.6800\n"
     ]
    },
    {
     "ename": "KeyboardInterrupt",
     "evalue": "",
     "output_type": "error",
     "traceback": [
      "\u001b[0;31m---------------------------------------------------------------------------\u001b[0m",
      "\u001b[0;31mKeyboardInterrupt\u001b[0m                         Traceback (most recent call last)",
      "\u001b[0;32m<ipython-input-6-45e5106e215c>\u001b[0m in \u001b[0;36m<module>\u001b[0;34m\u001b[0m\n\u001b[1;32m     15\u001b[0m \u001b[0;34m\u001b[0m\u001b[0m\n\u001b[1;32m     16\u001b[0m         \u001b[0;32mif\u001b[0m \u001b[0mRENDER\u001b[0m\u001b[0;34m:\u001b[0m\u001b[0;34m\u001b[0m\u001b[0;34m\u001b[0m\u001b[0m\n\u001b[0;32m---> 17\u001b[0;31m             \u001b[0mtime\u001b[0m\u001b[0;34m.\u001b[0m\u001b[0msleep\u001b[0m\u001b[0;34m(\u001b[0m\u001b[0;36m0.05\u001b[0m\u001b[0;34m)\u001b[0m\u001b[0;34m\u001b[0m\u001b[0;34m\u001b[0m\u001b[0m\n\u001b[0m\u001b[1;32m     18\u001b[0m             \u001b[0menv\u001b[0m\u001b[0;34m.\u001b[0m\u001b[0mrender\u001b[0m\u001b[0;34m(\u001b[0m\u001b[0;34m)\u001b[0m\u001b[0;34m\u001b[0m\u001b[0;34m\u001b[0m\u001b[0m\n\u001b[1;32m     19\u001b[0m \u001b[0;34m\u001b[0m\u001b[0m\n",
      "\u001b[0;31mKeyboardInterrupt\u001b[0m: "
     ]
    }
   ],
   "source": [
    "for episode in range(n_episodes):\n",
    "    state = torch.from_numpy(env.reset()).float().to(device)\n",
    "    done = False\n",
    "    episode_reward = 0\n",
    "    \n",
    "    \n",
    "    if episode%300 == 0:\n",
    "\n",
    "        RENDER = True\n",
    "    else:\n",
    "        RENDER = False\n",
    "        \n",
    "    total_loss = 0\n",
    "    while not done:\n",
    "        \n",
    "        if RENDER:\n",
    "            time.sleep(0.05)\n",
    "            env.render()\n",
    "            \n",
    "#         memory_d += 1\n",
    "#         if memory_d%final_d == 0:\n",
    "#             q_hat_target.load_state_dict(q_hat.state_dict()) # storing q_hat into q_hat_target for memory\n",
    "#             memory_d = 0\n",
    "        \n",
    "        q = q_hat(state)\n",
    "        if random.random() < epsilon:\n",
    "            action = env.action_space.sample()\n",
    "        else:\n",
    "            action = torch.argmax(q).item()\n",
    "            \n",
    "        next_state, reward, done, _ = env.step(action)\n",
    "        next_state = torch.from_numpy(next_state).float().to(device)\n",
    "        \n",
    "        q_target = q.clone()\n",
    "        q_target[action] = torch.tensor(reward) + discount*torch.max(q_hat(next_state))\n",
    "        \n",
    "        if done:\n",
    "            q_target[action]=torch.tensor(reward)\n",
    "            \n",
    "            \n",
    "        #calculate loss\n",
    "        loss = criterion(q,q_target.detach())\n",
    "        optimizer.zero_grad()\n",
    "        loss.backward()\n",
    "        optimizer.step()\n",
    "        \n",
    "        state = next_state\n",
    "        \n",
    "        episode_reward += reward\n",
    "        total_loss += loss.item()\n",
    "        \n",
    "    epsilon *= 0.9999\n",
    "    episode_rewards = np.append(episode_rewards, episode_reward)\n",
    "    avg_loss += total_loss\n",
    "    \n",
    "    env.close()\n",
    "    if episode%100 == 0:\n",
    "        print('Episode: %5d | Average Loss: %5.2f | Epsilon: %2.4f | Avg. Reward: %5.4f'%(episode, avg_loss/100, epsilon, np.mean(episode_rewards[episode-100:episode])))\n",
    "        avg_loss = 0\n",
    "        ep_reward = 0\n",
    "        np.save(rewards_path, episode_rewards)"
   ]
  },
  {
   "cell_type": "code",
   "execution_count": null,
   "metadata": {},
   "outputs": [],
   "source": []
  },
  {
   "cell_type": "code",
   "execution_count": null,
   "metadata": {},
   "outputs": [],
   "source": []
  }
 ],
 "metadata": {
  "kernelspec": {
   "display_name": "Python 3",
   "language": "python",
   "name": "python3"
  },
  "language_info": {
   "codemirror_mode": {
    "name": "ipython",
    "version": 3
   },
   "file_extension": ".py",
   "mimetype": "text/x-python",
   "name": "python",
   "nbconvert_exporter": "python",
   "pygments_lexer": "ipython3",
   "version": "3.6.9"
  }
 },
 "nbformat": 4,
 "nbformat_minor": 2
}
