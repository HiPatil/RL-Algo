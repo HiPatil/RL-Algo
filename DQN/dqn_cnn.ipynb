{
 "cells": [
  {
   "cell_type": "code",
   "execution_count": 1,
   "metadata": {},
   "outputs": [],
   "source": [
    "import torch\n",
    "import torch.nn as nn\n",
    "import torch.optim as optim\n",
    "import torch.autograd as autograd\n",
    "import torch.nn.functional as F\n",
    "import torchvision.transforms as T\n",
    "from collections import namedtuple\n",
    "\n",
    "import gym\n",
    "import numpy as np\n",
    "import time\n",
    "import cv2\n",
    "\n",
    "import random\n",
    "import math\n",
    "from itertools import count\n",
    "\n",
    "\n",
    "from PIL import Image\n",
    "import matplotlib\n",
    "import matplotlib.pyplot as plt\n",
    "\n",
    "%matplotlib inline\n",
    "is_ipython = 'inline' in matplotlib.get_backend()\n",
    "if is_ipython:\n",
    "    from IPython import display\n",
    "\n",
    "plt.ion()"
   ]
  },
  {
   "cell_type": "markdown",
   "metadata": {},
   "source": [
    "Checking the Environment"
   ]
  },
  {
   "cell_type": "code",
   "execution_count": 2,
   "metadata": {},
   "outputs": [
    {
     "data": {
      "text/plain": [
       "array([-0.01334107, -0.03290919,  0.02486646, -0.02966823])"
      ]
     },
     "execution_count": 2,
     "metadata": {},
     "output_type": "execute_result"
    }
   ],
   "source": [
    "env_id = 'CartPole-v0'\n",
    "\n",
    "env = gym.make(env_id)\n",
    "env.reset()\n",
    "# for _ in range(400):\n",
    "#     env.render()\n",
    "#     time.sleep(0.01)\n",
    "#     env.step(env.action_space.sample())   # take random actions\n",
    "# env.close()"
   ]
  },
  {
   "cell_type": "markdown",
   "metadata": {},
   "source": [
    "Checking and using if CUDA is available()"
   ]
  },
  {
   "cell_type": "code",
   "execution_count": 3,
   "metadata": {},
   "outputs": [
    {
     "name": "stdout",
     "output_type": "stream",
     "text": [
      "cuda\n"
     ]
    }
   ],
   "source": [
    "\n",
    "device = torch.device(\"cuda\" if torch.cuda.is_available() else \"cpu\")\n",
    "print(device)"
   ]
  },
  {
   "cell_type": "markdown",
   "metadata": {},
   "source": [
    "Experience Replay to have memory for model"
   ]
  },
  {
   "cell_type": "code",
   "execution_count": 4,
   "metadata": {},
   "outputs": [],
   "source": [
    "from collections import deque\n",
    "\n",
    "class exp_replay(object):\n",
    "    def __init__(self, capacity):\n",
    "        self.buffer = deque(maxlen=capacity)\n",
    "\n",
    "    def push(self, state, action, reward, next_state, done):\n",
    "        self.buffer.append((state, action, reward, next_state, done))\n",
    "\n",
    "    def sample(self, batch_size):\n",
    "        state, action, reward, next_state, done = zip(*random.sample(self.buffer, batch_size))\n",
    "        return np.concatenate(state), action, reward, np.concatenate(next_state), done\n",
    "\n",
    "    def __len__(self):\n",
    "        return len(self.buffer)"
   ]
  },
  {
   "cell_type": "code",
   "execution_count": 5,
   "metadata": {},
   "outputs": [],
   "source": [
    "epsilon = 1\n",
    "epsilon_min = 0.01\n",
    "epsilon_decay = 3000\n",
    "gamma = 0.999\n",
    "batch_size = 128\n",
    "\n",
    "replay_buffer_size = 10000\n",
    "learning_rate = 0.0001\n",
    "num_episodes = 500\n",
    "target_update_freq = 10\n"
   ]
  },
  {
   "cell_type": "code",
   "execution_count": 6,
   "metadata": {},
   "outputs": [],
   "source": [
    "def get_cart_loc(screen_width):\n",
    "    world_width = env.x_threshold*2\n",
    "    scale = screen_width/world_width\n",
    "#     print(scale)\n",
    "#     print(int(env.state[0]*scale + screen_width/2.0))\n",
    "    return int(env.state[0]*scale + screen_width/2.0)"
   ]
  },
  {
   "cell_type": "code",
   "execution_count": 7,
   "metadata": {},
   "outputs": [],
   "source": [
    "# def get_screen():\n",
    "#         screen = env.render(mode='rgb_array')\n",
    "#         screen_1 = cv2.cvtColor(screen, cv2.COLOR_RGB2GRAY)\n",
    "#         r_screen = cv2.resize(screen_1, (84,84), interpolation=cv2.INTER_AREA)\n",
    "#         r_screen = np.array(r_screen)\n",
    "#         r_screen = np.expand_dims(r_screen,axis=0)\n",
    "#         r_screen = torch.Tensor(r_screen)\n",
    "#         return r_screen.unsqueeze(0).to(device)\n"
   ]
  },
  {
   "cell_type": "code",
   "execution_count": 8,
   "metadata": {},
   "outputs": [
    {
     "data": {
      "image/png": "[encoded data removed]",
      "text/plain": [
       "<Figure size 432x288 with 1 Axes>"
      ]
     },
     "metadata": {
      "needs_background": "light"
     },
     "output_type": "display_data"
    }
   ],
   "source": [
    "def get_screen():\n",
    "    screen = env.render(mode = 'rgb_array')\n",
    "    ### Capture screen return in shape (H,W,C) = (400,600,3)\n",
    "    \n",
    "    ### Cart is in lower half of screen. We remove the unuseful part of environment\n",
    "    screen_height, screen_width, _ = screen.shape\n",
    "    screen = screen[int(screen_height*0.4):int(screen_height*0.8),:]  # Screen Shape is now (160,600,3)\n",
    "#     print(screen.shape)\n",
    "\n",
    "    view_width = int(screen_width*0.6) # width required when pole becomes horizontal. \n",
    "#     print(view_width//2)\n",
    "    cart_loc = get_cart_loc(screen_width)\n",
    "\n",
    "    ### Extract screen where cart is locaed and discard the remaining part\n",
    "    if cart_loc < view_width//2:\n",
    "        slice_range = slice(view_width)\n",
    "    elif cart_loc > (screen_width - view_width//2):\n",
    "        slice_range = slice(-view_width, None)\n",
    "    else:\n",
    "        slice_range = slice(cart_loc - view_width//2, cart_loc + view_width//2)\n",
    "#     print(slice_range)\n",
    "    screen = screen[:,slice_range,:]\n",
    "#     print(screen.shape)\n",
    "    \n",
    "    width = int(screen.shape[1] * 30 / 100)\n",
    "    height = int(screen.shape[0] * 30 / 100)\n",
    "    dim = (width, height)\n",
    "#     print(dim)\n",
    "    # resize image\n",
    "    screen = cv2.resize(screen, dim, interpolation = cv2.INTER_AREA)\n",
    "#     print(screen.shape)\n",
    "    ### Pytorch work wwith format (C,H,W). So we take transpose\n",
    "    screen = screen.transpose((2,0,1))\n",
    "#     \n",
    "    \n",
    "    ### Convert ot float and normalize\n",
    "    screen = np.ascontiguousarray(screen, dtype = np.float32)/255\n",
    "    screen=np.expand_dims(screen,0)\n",
    "    \n",
    "    ### Convert to tensor\n",
    "    screen = torch.from_numpy(screen)\n",
    "#     print(screen.shape)\n",
    "    return screen\n",
    "    \n",
    "\n",
    "### Image appears to be blur due to interpolation\n",
    "plt.figure()\n",
    "plt.imshow(get_screen().cpu().squeeze(0).permute(1, 2, 0).numpy())\n",
    "plt.title('Extracted screen')\n",
    "plt.show()"
   ]
  },
  {
   "cell_type": "markdown",
   "metadata": {},
   "source": [
    "Deep Q-Network"
   ]
  },
  {
   "cell_type": "code",
   "execution_count": 9,
   "metadata": {},
   "outputs": [],
   "source": [
    "class dqn(nn.Module):\n",
    "    def __init__(self, input_shape, num_actions):\n",
    "        super(dqn, self).__init__()\n",
    "        self.device='cuda' if torch.cuda.is_available() else 'cpu'\n",
    "        self.input_shape = input_shape\n",
    "        self.num_actions = num_actions\n",
    "        \n",
    "        self.features = nn.Sequential(\n",
    "            nn.Conv2d(input_shape[0], 32, kernel_size=8, stride=4),\n",
    "            nn.ReLU(),\n",
    "            nn.Conv2d(32, 64, kernel_size=4, stride=2),\n",
    "            nn.ReLU(),\n",
    "            nn.Conv2d(64, 64, kernel_size=3, stride=1),\n",
    "            nn.ReLU()\n",
    "        )\n",
    "        \n",
    "        self.fc = nn.Sequential(\n",
    "            nn.Linear(self.feature_size(), 512),\n",
    "            nn.ReLU(),\n",
    "            nn.Linear(512, self.num_actions)\n",
    "        )\n",
    "    def forward(self, x):\n",
    "        x=x.to(self.device)\n",
    "        x = self.features(x)\n",
    "        x = x.view(x.size(0), -1)\n",
    "        x = self.fc(x)\n",
    "        return x\n",
    "    \n",
    "    def feature_size(self):\n",
    "        return self.features(torch.zeros(1, *self.input_shape)).view(1, -1).size(1)"
   ]
  },
  {
   "cell_type": "code",
   "execution_count": 10,
   "metadata": {},
   "outputs": [],
   "source": [
    "init_screen = get_screen()\n",
    "init_screen = init_screen.squeeze(0)\n",
    "# print(init_screen.shape[2])\n",
    "\n",
    "\n",
    "num_actions = env.action_space.n\n",
    "policy_net = dqn(init_screen.shape, num_actions).to(device)\n",
    "target_net = dqn(init_screen.shape, num_actions).to(device)\n",
    "\n",
    "target_net.load_state_dict(policy_net.state_dict())\n",
    "target_net.eval()\n",
    "\n",
    "criterion = nn.MSELoss()\n",
    "optimizer = optim.Adam(policy_net.parameters())\n",
    "\n",
    "memory = exp_replay(10000)"
   ]
  },
  {
   "cell_type": "code",
   "execution_count": 11,
   "metadata": {},
   "outputs": [],
   "source": [
    "steps_done = 0\n",
    "def select_action(state, epsilon):\n",
    "    global steps_done\n",
    "    sample = random.random()\n",
    "\n",
    "    if sample < epsilon:\n",
    "        action = random.randrange(env.action_space.n)    \n",
    "    else:\n",
    "        q_val = policy_net(state)\n",
    "        action = torch.argmax(q_val).item()\n",
    "            \n",
    "    return action\n",
    "\n",
    "\n",
    "def plot_durations(scores,pause):\n",
    "    plt.ion()\n",
    "    plt.figure(2)\n",
    "    plt.clf()\n",
    "\n",
    "    durations_t = torch.tensor(scores, dtype=torch.float)\n",
    "    plt.title('Training...')\n",
    "    plt.xlabel('Episode')\n",
    "    plt.ylabel('Scores')\n",
    "    plt.plot(durations_t.numpy())\n",
    "    # Take 20 episode averages and plot them too\n",
    "    if len(durations_t) >= 20:\n",
    "        means = durations_t.unfold(0, 20, 1).mean(1).view(-1)\n",
    "        means = torch.cat((torch.zeros(19), means))\n",
    "        plt.plot(means.numpy())\n",
    "    if pause< 25:\n",
    "        plt.pause(pause)  # pause a bit so that plots are updated\n",
    "        if is_ipython:\n",
    "            display.clear_output(wait=True)\n",
    "            display.display(plt.gcf())"
   ]
  },
  {
   "cell_type": "code",
   "execution_count": 12,
   "metadata": {},
   "outputs": [],
   "source": [
    "def learn():\n",
    "    if len(memory) < batch_size:\n",
    "        return\n",
    "    \n",
    "    \n",
    "    state, action, reward, next_state, done = memory.sample(batch_size)\n",
    "    \n",
    "    \n",
    "    state=torch.FloatTensor(state)\n",
    "    action=torch.tensor(action).to(device)\n",
    "    reward=torch.tensor(reward).to(device)\n",
    "    next_state=torch.FloatTensor(next_state)\n",
    "    done=torch.tensor(done).float().to(device)\n",
    "    \n",
    "    \n",
    "    \n",
    "#     state_batch, action_batch, reward_batch, next_state_batch, done_batch = memory.sample(batch_size)\n",
    "#     reward_batch = torch.tensor(reward_batch, device = device)\n",
    "#     done_batch = torch.tensor(done_batch, device = device)\n",
    "# #     print(done_batch)\n",
    "#     action_batch = torch.tensor(action_batch,device = device)\n",
    "# #     print(action_batch.size())\n",
    "#     done_batch = torch.tensor(done, device = device, dtype = torch.float)\n",
    "# #     print(done_batch)\n",
    "\n",
    "    q_vals = policy_net(state)\n",
    "    q_next = target_net(next_state).detach()\n",
    "# #     print(q_val.size, q_target.size)\n",
    "#     batch_index = np.arange(batch_size)\n",
    "    q_val = q_vals.gather(1, action.unsqueeze(1)).squeeze(1)\n",
    "    q_next_val = q_next.max(1)[0]\n",
    "    \n",
    "\n",
    "    expected_q_val = reward + gamma*q_next_val*(1-done)\n",
    "    \n",
    "    loss = criterion(q_val, expected_q_val)\n",
    "    optimizer.zero_grad()\n",
    "    loss.backward()\n",
    "    optimizer.step()\n",
    "    \n",
    "    return loss"
   ]
  },
  {
   "cell_type": "code",
   "execution_count": 13,
   "metadata": {
    "scrolled": true
   },
   "outputs": [
    {
     "data": {
      "text/plain": [
       "<Figure size 432x288 with 0 Axes>"
      ]
     },
     "metadata": {},
     "output_type": "display_data"
    },
    {
     "name": "stdout",
     "output_type": "stream",
     "text": [
      "Complete\n"
     ]
    },
    {
     "data": {
      "text/plain": [
       "<Figure size 432x288 with 0 Axes>"
      ]
     },
     "metadata": {},
     "output_type": "display_data"
    }
   ],
   "source": [
    "ep_reward = []\n",
    "num_frame = 120\n",
    "\n",
    "\n",
    "epsilon_by_frame = lambda frame_idx: epsilon_min + (epsilon - epsilon_min) * math.exp(-1. * frame_idx / epsilon_decay)\n",
    "\n",
    "\n",
    "\n",
    "steps = 0\n",
    "for ep in range(1, num_frame+1):\n",
    "    env.reset()\n",
    "    last_screen = get_screen()\n",
    "    current_screen = get_screen()\n",
    "    state = current_screen - last_screen\n",
    "    done = 0\n",
    "    total_reward  = 0\n",
    "    while not done:\n",
    "        \n",
    "        epsilon = epsilon_by_frame(steps)\n",
    "        steps += 1\n",
    "        \n",
    "        action = select_action(state, epsilon)\n",
    "        \n",
    "        _, reward, done, _ = env.step(action)\n",
    "#         next_state = torch.tensor(next_state, device = device, dtype = torch.float)\n",
    "        # Observe new state\n",
    "        last_screen = current_screen\n",
    "        current_screen = get_screen()\n",
    "        next_state = current_screen - last_screen\n",
    "        \n",
    "        \n",
    "        memory.push(state, action, reward, next_state, done)\n",
    "        loss = learn()     # Learning of model with help of experience replay\n",
    "        \n",
    "        total_reward += reward\n",
    "        state = next_state\n",
    "\n",
    "        \n",
    "    ep_reward.append(total_reward)\n",
    "    # Update the target network, copying all weights and biases in DQN\n",
    "    if ep % target_update_freq == 0:\n",
    "        target_net.load_state_dict(policy_net.state_dict())\n",
    "        plot_durations(ep_reward,2)\n",
    "print('Complete')\n",
    "env.close()"
   ]
  },
  {
   "cell_type": "code",
   "execution_count": 14,
   "metadata": {},
   "outputs": [
    {
     "data": {
      "image/png": "[encoded data removed]",
      "text/plain": [
       "<Figure size 432x288 with 1 Axes>"
      ]
     },
     "metadata": {
      "needs_background": "light"
     },
     "output_type": "display_data"
    }
   ],
   "source": [
    "plot_durations(ep_reward,25)"
   ]
  },
  {
   "cell_type": "code",
   "execution_count": null,
   "metadata": {},
   "outputs": [],
   "source": []
  },
  {
   "cell_type": "code",
   "execution_count": null,
   "metadata": {},
   "outputs": [],
   "source": []
  },
  {
   "cell_type": "code",
   "execution_count": null,
   "metadata": {},
   "outputs": [],
   "source": []
  }
 ],
 "metadata": {
  "kernelspec": {
   "display_name": "Python 3",
   "language": "python",
   "name": "python3"
  },
  "language_info": {
   "codemirror_mode": {
    "name": "ipython",
    "version": 3
   },
   "file_extension": ".py",
   "mimetype": "text/x-python",
   "name": "python",
   "nbconvert_exporter": "python",
   "pygments_lexer": "ipython3",
   "version": "3.6.9"
  }
 },
 "nbformat": 4,
 "nbformat_minor": 2
}
