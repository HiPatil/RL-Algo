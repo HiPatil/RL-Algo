{
 "cells": [
  {
   "cell_type": "code",
   "execution_count": 1,
   "metadata": {},
   "outputs": [],
   "source": [
    "import torch\n",
    "import numpy as np\n",
    "import gym\n",
    "import torch.nn as nn\n",
    "import time\n",
    "import random\n",
    "import torch.optim as optim\n",
    "import math\n",
    "\n",
    "\n",
    "from IPython.display import clear_output\n",
    "import matplotlib.pyplot as plt\n",
    "%matplotlib inline\n",
    "\n",
    "\n",
    "if torch.cuda.is_available():\n",
    "    device = 'cuda'\n",
    "else:\n",
    "    device = 'cpu'"
   ]
  },
  {
   "cell_type": "code",
   "execution_count": 2,
   "metadata": {},
   "outputs": [],
   "source": [
    "# Network architecture for DQN\n",
    "class q_network(nn.Module):\n",
    "    def __init__(self, observations, actions):\n",
    "        super(q_network, self).__init__()\n",
    "        self.network = nn.Sequential(\n",
    "            nn.Linear(observations, 64),\n",
    "            nn.ReLU(),\n",
    "            nn.Linear(64, 32),\n",
    "            nn.ReLU(),\n",
    "            nn.Linear(32, actions),\n",
    "        )\n",
    "    def forward(self, x):\n",
    "        return self.network(x)"
   ]
  },
  {
   "cell_type": "code",
   "execution_count": 3,
   "metadata": {},
   "outputs": [
    {
     "name": "stdout",
     "output_type": "stream",
     "text": [
      "0.95\n"
     ]
    }
   ],
   "source": [
    "done = False\n",
    "learning_rate = 0.0001\n",
    "discount= 0.99\n",
    "epsilon = 0.95\n",
    "epsilon_decay = 0.9999\n",
    "min_epsilon = 0.1\n",
    "n_episodes = 1000\n",
    "batch_size = 128\n",
    "Reward_Path = 'rewards.npy'\n",
    "env_name = 'CartPole-v0'\n",
    "model_path = './models/' + env_name + '.pth'\n",
    "\n",
    "print(epsilon)"
   ]
  },
  {
   "cell_type": "code",
   "execution_count": 4,
   "metadata": {},
   "outputs": [
    {
     "data": {
      "text/plain": [
       "array([-0.00270691, -0.01540017,  0.0037088 ,  0.01664034])"
      ]
     },
     "execution_count": 4,
     "metadata": {},
     "output_type": "execute_result"
    }
   ],
   "source": [
    "# creating a cartpole environment\n",
    "env = gym.make(env_name)\n",
    "env.reset()"
   ]
  },
  {
   "cell_type": "code",
   "execution_count": 5,
   "metadata": {},
   "outputs": [
    {
     "data": {
      "text/plain": [
       "'\\n# Testing the environment with random actions\\nfor _ in range(1000):\\n    env.render(100)\\n    time.sleep(0.05)\\n    env.step(env.action_space.sample())\\nenv.close()\\n'"
      ]
     },
     "execution_count": 5,
     "metadata": {},
     "output_type": "execute_result"
    }
   ],
   "source": [
    "'''\n",
    "# Testing the environment with random actions\n",
    "for _ in range(1000):\n",
    "    env.render(100)\n",
    "    time.sleep(0.05)\n",
    "    env.step(env.action_space.sample())\n",
    "env.close()\n",
    "'''"
   ]
  },
  {
   "cell_type": "code",
   "execution_count": 6,
   "metadata": {},
   "outputs": [],
   "source": [
    "# for experience replay\n",
    "from collections import deque\n",
    "\n",
    "class Exp_Replay:\n",
    "    def __init__(self, limit):\n",
    "        self.memory = deque(maxlen=limit)     \n",
    "        \n",
    "    def push(self, state, action, reward, next_state, done):\n",
    "        state      = np.expand_dims(state,0)\n",
    "        next_state = np.expand_dims(next_state,0)\n",
    "\n",
    "        self.memory.append((state, action, reward, next_state, done))\n",
    "    \n",
    "    def sample(self, batch_size):\n",
    "        state, action, reward, next_state, done = zip(*random.sample(self.memory, batch_size))\n",
    "        return np.concatenate(state), action, reward, np.concatenate(next_state), done\n",
    "    \n",
    "    def __len__(self):\n",
    "        return len(self.memory)"
   ]
  },
  {
   "cell_type": "code",
   "execution_count": 7,
   "metadata": {},
   "outputs": [
    {
     "data": {
      "text/plain": [
       "<All keys matched successfully>"
      ]
     },
     "execution_count": 7,
     "metadata": {},
     "output_type": "execute_result"
    }
   ],
   "source": [
    "# creating object for network\n",
    "q_hat = q_network(env.observation_space.shape[0], env.action_space.n).to(device)\n",
    "q_hat_target = q_network(env.observation_space.shape[0], env.action_space.n).to(device)\n",
    "\n",
    "q_hat_target.load_state_dict(q_hat.state_dict())"
   ]
  },
  {
   "cell_type": "code",
   "execution_count": 8,
   "metadata": {},
   "outputs": [],
   "source": [
    "criterion = nn.MSELoss().to(device)\n",
    "optimizer = optim.RMSprop(q_hat.parameters(), lr = learning_rate)\n",
    "\n",
    "memory = Exp_Replay(10000)"
   ]
  },
  {
   "cell_type": "code",
   "execution_count": 9,
   "metadata": {},
   "outputs": [],
   "source": [
    "def plot(episode, avg_loss, eps, eps_rewards):\n",
    "    clear_output(True)\n",
    "    plt.figure(figsize=(20,5))\n",
    "    plt.subplot(131)\n",
    "    plt.title('Episode: %5d | Epsilon: %4.2f | Avg. Reward: %5.2f'%(episode, eps, np.mean(ep_rewards[-50:])))\n",
    "    plt.plot(eps_rewards)\n",
    "    plt.subplot(132)\n",
    "    plt.title('loss | Average Loss: %5.2f'%np.mean(ep_loss[-50:]))\n",
    "    plt.plot(ep_loss)\n",
    "    plt.show()"
   ]
  },
  {
   "cell_type": "code",
   "execution_count": 10,
   "metadata": {},
   "outputs": [],
   "source": [
    "def action_select(state, epsilon):\n",
    "    \n",
    "    if random.random() < epsilon:\n",
    "        action = env.action_space.sample()\n",
    "    else:\n",
    "        state   = torch.FloatTensor(state).unsqueeze(0).to(device) \n",
    "        action = torch.argmax(q_hat(state)).item()\n",
    "    \n",
    "    return action"
   ]
  },
  {
   "cell_type": "code",
   "execution_count": 11,
   "metadata": {},
   "outputs": [],
   "source": [
    "def compute_td_loss(batch_size,criterion, optimizer, target_net, loss, limit):\n",
    "    if limit< batch_size:\n",
    "        return 0\n",
    "    \n",
    "    state, action, reward, next_state, done = memory.sample(batch_size)\n",
    "\n",
    "    state      = torch.FloatTensor(np.float32(state)).to(device)\n",
    "    next_state = torch.FloatTensor(np.float32(next_state)).to(device)\n",
    "    action     = torch.LongTensor(action).to(device)\n",
    "    reward     = torch.FloatTensor(reward).to(device)\n",
    "    done       = torch.FloatTensor(done).to(device)\n",
    "    \n",
    "    current_q = q_hat(state).gather(1, action.unsqueeze(1)).squeeze(1)\n",
    "    \n",
    "        \n",
    "    next_q    = target_net(next_state).max(dim=1)[0]\n",
    "    q_target     = reward + discount*next_q*(1 - done)\n",
    "    \n",
    "    tdloss = criterion(current_q, q_target.detach())\n",
    "    loss += tdloss.item()\n",
    "    \n",
    "    optimizer.zero_grad()\n",
    "    tdloss.backward()\n",
    "    optimizer.step()\n",
    "    \n",
    "    return loss"
   ]
  },
  {
   "cell_type": "code",
   "execution_count": 12,
   "metadata": {},
   "outputs": [
    {
     "data": {
      "image/png": "[encoded data removed]",
      "text/plain": [
       "<Figure size 1440x360 with 2 Axes>"
      ]
     },
     "metadata": {
      "needs_background": "light"
     },
     "output_type": "display_data"
    }
   ],
   "source": [
    "avg_loss = 0\n",
    "steps = 200\n",
    "ep_rewards = np.array([])\n",
    "ep_loss = np.array([])\n",
    "\n",
    "# Training the agent\n",
    "for episode in range(n_episodes):\n",
    "    state = env.reset()\n",
    "    ep_reward = 0\n",
    "    running_loss = 0\n",
    "    done = False\n",
    "    \n",
    "    while not done:\n",
    "        \n",
    "        action = action_select(state, epsilon)\n",
    "        epsilon = max(epsilon*epsilon_decay, min_epsilon)\n",
    "        \n",
    "        \n",
    "        next_state, reward, done, _ = env.step(action)\n",
    "        \n",
    "        ep_reward += reward\n",
    "        memory.push(state, action, reward, next_state, done)\n",
    "        \n",
    "        state = next_state\n",
    "        \n",
    "        running_loss = compute_td_loss(batch_size,criterion, optimizer, q_hat_target, running_loss, len(memory))\n",
    "        \n",
    "    ep_rewards = np.append(ep_rewards, ep_reward)\n",
    "    ep_loss = np.append(ep_loss, running_loss)\n",
    "    q_hat_target.load_state_dict(q_hat.state_dict())\n",
    "            \n",
    "    if episode%50==0:\n",
    "        plot(episode, ep_loss, epsilon, ep_rewards)\n",
    "        avg_loss = 0\n",
    "        ep_reward =0\n",
    "        np.save(Reward_Path, ep_rewards)\n",
    "    \n",
    "env.close()"
   ]
  },
  {
   "cell_type": "code",
   "execution_count": 14,
   "metadata": {},
   "outputs": [
    {
     "data": {
      "text/plain": [
       "<All keys matched successfully>"
      ]
     },
     "execution_count": 14,
     "metadata": {},
     "output_type": "execute_result"
    }
   ],
   "source": [
    "# Save model\n",
    "torch.save(q_hat_target.state_dict(),model_path)\n",
    "\n",
    "q_hat_target = q_network(env.observation_space.shape[0], env.action_space.n).to(device)\n",
    "q_hat_target.load_state_dict(torch.load(model_path))"
   ]
  },
  {
   "cell_type": "code",
   "execution_count": 16,
   "metadata": {},
   "outputs": [
    {
     "name": "stdout",
     "output_type": "stream",
     "text": [
      "Total Reward: 200.0\n"
     ]
    }
   ],
   "source": [
    "import gym\n",
    "import time\n",
    "\n",
    "env = gym.make(env_name)\n",
    "# env.reset()\n",
    "state = env.reset()\n",
    "done = False\n",
    "testing_epsilon = 0.05\n",
    "tot_reward = 0\n",
    "\n",
    "for step in range(2000):\n",
    "    state = torch.from_numpy(state).float().to(device)\n",
    "    env.render()\n",
    "    action = torch.argmax(q_hat_target(state)).item()\n",
    "    state, reward, done, _ = env.step(action)\n",
    "    tot_reward += reward\n",
    "    if done:\n",
    "#         print('DONE')\n",
    "        break\n",
    "    time.sleep(.05)\n",
    "    \n",
    "print('Total Reward:', tot_reward)\n",
    "    \n",
    "env.close()"
   ]
  },
  {
   "cell_type": "code",
   "execution_count": null,
   "metadata": {},
   "outputs": [],
   "source": []
  }
 ],
 "metadata": {
  "kernelspec": {
   "display_name": "Python 3",
   "language": "python",
   "name": "python3"
  },
  "language_info": {
   "codemirror_mode": {
    "name": "ipython",
    "version": 3
   },
   "file_extension": ".py",
   "mimetype": "text/x-python",
   "name": "python",
   "nbconvert_exporter": "python",
   "pygments_lexer": "ipython3",
   "version": "3.6.9"
  }
 },
 "nbformat": 4,
 "nbformat_minor": 2
}
